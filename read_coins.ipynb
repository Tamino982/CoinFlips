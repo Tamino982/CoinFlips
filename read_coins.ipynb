{
 "cells": [
  {
   "cell_type": "markdown",
   "metadata": {},
   "source": [
    "## Chances of head and tail: analyzing about 200 coin flips, some are manipulated, while some are regular ones \n",
    "\n",
    "### •head is coded b and tail 2"
   ]
  },
  {
   "cell_type": "markdown",
   "metadata": {},
   "source": [
    "##### function: read_coins, which outputs a the distribution of b and 2  "
   ]
  },
  {
   "cell_type": "code",
   "execution_count": 2,
   "metadata": {},
   "outputs": [
    {
     "data": {
      "text/plain": [
       "read_coins (generic function with 1 method)"
      ]
     },
     "execution_count": 2,
     "metadata": {},
     "output_type": "execute_result"
    }
   ],
   "source": [
    "function read_coins(fname)\n",
    "    all = read(fname, String)\n",
    "    \n",
    "    n = Dict()\n",
    "    n['b'] = 0\n",
    "    n['2'] = 0\n",
    "    \n",
    "    for i in 1:length(all)\n",
    "        c = all[i]\n",
    "        if c ∈ keys(n)\n",
    "            n[c] = n[c] + 1\n",
    "        else\n",
    "            println(\"illegal character:\", c)\n",
    "        end\n",
    "    end\n",
    "    return(n)\n",
    "end"
   ]
  },
  {
   "cell_type": "code",
   "execution_count": 15,
   "metadata": {},
   "outputs": [
    {
     "name": "stdout",
     "output_type": "stream",
     "text": [
      "illegal character:\n",
      "\n"
     ]
    },
    {
     "data": {
      "text/plain": [
       "Dict{Any,Any} with 2 entries:\n",
       "  'b' => 87\n",
       "  '2' => 127"
      ]
     },
     "execution_count": 15,
     "metadata": {},
     "output_type": "execute_result"
    }
   ],
   "source": [
    "read_coins(\"183.txt\") \n",
    "#read_coins(\"294.txt\")\n",
    "#read_coins(\"384.txt\")\n",
    "#read_coins(\"829.txt\")\n",
    "#read_coins(\"916.txt\")"
   ]
  },
  {
   "cell_type": "code",
   "execution_count": 4,
   "metadata": {},
   "outputs": [
    {
     "name": "stdout",
     "output_type": "stream",
     "text": [
      "illegal character:\n",
      "\n"
     ]
    },
    {
     "data": {
      "text/plain": [
       "Dict{Any,Any} with 2 entries:\n",
       "  'b' => 136\n",
       "  '2' => 80"
      ]
     },
     "execution_count": 4,
     "metadata": {},
     "output_type": "execute_result"
    }
   ],
   "source": []
  },
  {
   "cell_type": "markdown",
   "metadata": {},
   "source": [
    "## 183.txt"
   ]
  },
  {
   "cell_type": "code",
   "execution_count": 25,
   "metadata": {},
   "outputs": [
    {
     "name": "stdout",
     "output_type": "stream",
     "text": [
      "illegal character:\n",
      "\n",
      "The chance of b is: 40.654% and the chance of 2 is: 59.346%\n"
     ]
    }
   ],
   "source": [
    "n1 = read_coins(\"183.txt\") \n",
    "p1 = (n1['b'] / (n1['b'] + n1['2']))*100\n",
    "println(\"The chance of b is: \", round(p1, digits=3), \"%\", \" and the chance of 2 is: \", round(100 - p1, digits=3), \"%\")"
   ]
  },
  {
   "cell_type": "markdown",
   "metadata": {},
   "source": [
    "## 294.txt"
   ]
  },
  {
   "cell_type": "code",
   "execution_count": 21,
   "metadata": {},
   "outputs": [
    {
     "name": "stdout",
     "output_type": "stream",
     "text": [
      "illegal character:\n",
      "\n",
      "The chance of b is: 55.981% and the chance of 2 is: 44.019%\n"
     ]
    }
   ],
   "source": [
    "n1 = read_coins(\"294.txt\") \n",
    "p1 = (n1['b'] / (n1['b'] + n1['2']))*100\n",
    "println(\"The chance of b is: \", round(p1, digits=3), \"%\", \" and the chance of 2 is: \", round(100 - p1, digits=3), \"%\")"
   ]
  },
  {
   "cell_type": "markdown",
   "metadata": {},
   "source": [
    "## 384.txt"
   ]
  },
  {
   "cell_type": "code",
   "execution_count": 22,
   "metadata": {},
   "outputs": [
    {
     "name": "stdout",
     "output_type": "stream",
     "text": [
      "illegal character:\n",
      "\n",
      "The chance of b is: 62.963% and the chance of 2 is: 37.037%\n"
     ]
    }
   ],
   "source": [
    "n1 = read_coins(\"384.txt\") \n",
    "p1 = (n1['b'] / (n1['b'] + n1['2']))*100\n",
    "println(\"The chance of b is: \", round(p1, digits=3), \"%\", \" and the chance of 2 is: \", round(100 - p1, digits=3), \"%\")"
   ]
  },
  {
   "cell_type": "markdown",
   "metadata": {},
   "source": [
    "## 829.txt"
   ]
  },
  {
   "cell_type": "code",
   "execution_count": 23,
   "metadata": {},
   "outputs": [
    {
     "name": "stdout",
     "output_type": "stream",
     "text": [
      "illegal character:\n",
      "\n",
      "The chance of b is: 56.522% and the chance of 2 is: 43.478%\n"
     ]
    }
   ],
   "source": [
    "n1 = read_coins(\"829.txt\") \n",
    "p1 = (n1['b'] / (n1['b'] + n1['2']))*100\n",
    "println(\"The chance of b is: \", round(p1, digits=3), \"%\", \" and the chance of 2 is: \", round(100 - p1, digits=3), \"%\")"
   ]
  },
  {
   "cell_type": "markdown",
   "metadata": {},
   "source": [
    "## 916.txt"
   ]
  },
  {
   "cell_type": "code",
   "execution_count": 9,
   "metadata": {},
   "outputs": [
    {
     "ename": "MethodError",
     "evalue": "MethodError: objects of type String are not callable",
     "output_type": "error",
     "traceback": [
      "MethodError: objects of type String are not callable",
      "",
      "Stacktrace:",
      " [1] top-level scope at In[9]:1"
     ]
    }
   ],
   "source": [
    "n1 = read_coins(\"916.txt\") \n",
    "p1 = (n1['b'] / (n1['b'] + n1['2']))*100\n",
    "println(\"The chance of b is: \", round(p1, digits=3), \"%\", \" and the chance of 2 is: \", round(100 - p1, digits=3), \"%\")"
   ]
  },
  {
   "cell_type": "markdown",
   "metadata": {},
   "source": [
    "## unfair_fake.txt"
   ]
  },
  {
   "cell_type": "code",
   "execution_count": 32,
   "metadata": {},
   "outputs": [
    {
     "name": "stdout",
     "output_type": "stream",
     "text": [
      "illegal character:\n",
      "\n",
      "The chance of b is: 40.65% and the chance of 2 is: 59.35%\n"
     ]
    }
   ],
   "source": [
    "n1 = read_coins(\"/home/pi/Spielwiese/CoinFlips/PetersCoinFlips/unfair_fake.txt\") \n",
    "p1 = (n1['b'] / (n1['b'] + n1['2']))*100\n",
    "println(\"The chance of b is: \", round(p1, digits=3), \"%\", \" and the chance of 2 is: \", round(100 - p1, digits=3), \"%\")"
   ]
  },
  {
   "cell_type": "markdown",
   "metadata": {},
   "source": [
    "## wuerfeln-1.txt"
   ]
  },
  {
   "cell_type": "code",
   "execution_count": 33,
   "metadata": {},
   "outputs": [
    {
     "name": "stdout",
     "output_type": "stream",
     "text": [
      "illegal character:\n",
      "\n",
      "The chance of b is: 49.052% and the chance of 2 is: 50.948%\n"
     ]
    }
   ],
   "source": [
    "n1 = read_coins(\"/home/pi/Spielwiese/CoinFlips/EdvinsCoinFlips/wuerfeln-1.txt\") \n",
    "p1 = (n1['b'] / (n1['b'] + n1['2']))*100\n",
    "println(\"The chance of b is: \", round(p1, digits=3), \"%\", \" and the chance of 2 is: \", round(100 - p1, digits=3), \"%\")"
   ]
  },
  {
   "cell_type": "markdown",
   "metadata": {},
   "source": [
    "## wuerfeln-2.txt"
   ]
  },
  {
   "cell_type": "code",
   "execution_count": 34,
   "metadata": {},
   "outputs": [
    {
     "name": "stdout",
     "output_type": "stream",
     "text": [
      "illegal character:\n",
      "\n",
      "The chance of b is: 58.065% and the chance of 2 is: 41.935%\n"
     ]
    }
   ],
   "source": [
    "n1 = read_coins(\"/home/pi/Spielwiese/CoinFlips/EdvinsCoinFlips/wuerfeln-2.txt\") \n",
    "p1 = (n1['b'] / (n1['b'] + n1['2']))*100\n",
    "println(\"The chance of b is: \", round(p1, digits=3), \"%\", \" and the chance of 2 is: \", round(100 - p1, digits=3), \"%\")"
   ]
  },
  {
   "cell_type": "markdown",
   "metadata": {},
   "source": [
    "## wuerfeln-3.txt"
   ]
  },
  {
   "cell_type": "code",
   "execution_count": 35,
   "metadata": {},
   "outputs": [
    {
     "name": "stdout",
     "output_type": "stream",
     "text": [
      "illegal character:\n",
      "\n",
      "The chance of b is: 54.128% and the chance of 2 is: 45.872%\n"
     ]
    }
   ],
   "source": [
    "n1 = read_coins(\"/home/pi/Spielwiese/CoinFlips/EdvinsCoinFlips/wuerfeln-3.txt\") \n",
    "p1 = (n1['b'] / (n1['b'] + n1['2']))*100\n",
    "println(\"The chance of b is: \", round(p1, digits=3), \"%\", \" and the chance of 2 is: \", round(100 - p1, digits=3), \"%\")"
   ]
  },
  {
   "cell_type": "markdown",
   "metadata": {},
   "source": [
    "## wuerfeln-4.txt"
   ]
  },
  {
   "cell_type": "code",
   "execution_count": 36,
   "metadata": {},
   "outputs": [
    {
     "name": "stdout",
     "output_type": "stream",
     "text": [
      "illegal character:\n",
      "\n",
      "The chance of b is: 44.749% and the chance of 2 is: 55.251%\n"
     ]
    }
   ],
   "source": [
    "n1 = read_coins(\"/home/pi/Spielwiese/CoinFlips/EdvinsCoinFlips/wuerfeln-4.txt\") \n",
    "p1 = (n1['b'] / (n1['b'] + n1['2']))*100\n",
    "println(\"The chance of b is: \", round(p1, digits=3), \"%\", \" and the chance of 2 is: \", round(100 - p1, digits=3), \"%\")"
   ]
  }
 ],
 "metadata": {
  "kernelspec": {
   "display_name": "Julia 1.4.1",
   "language": "julia",
   "name": "julia-1.4"
  },
  "language_info": {
   "file_extension": ".jl",
   "mimetype": "application/julia",
   "name": "julia",
   "version": "1.4.1"
  }
 },
 "nbformat": 4,
 "nbformat_minor": 4
}
