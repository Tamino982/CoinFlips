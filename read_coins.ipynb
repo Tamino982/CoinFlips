{
 "cells": [
  {
   "cell_type": "markdown",
   "metadata": {},
   "source": [
    "## Chances of head and tail: analyzing about 200 coin flips, some are manipulated, while some are regular ones \n",
    "\n",
    "### •head is coded b and tail 2"
   ]
  },
  {
   "cell_type": "markdown",
   "metadata": {},
   "source": [
    "## 183.txt "
   ]
  },
  {
   "cell_type": "code",
   "execution_count": 10,
   "metadata": {},
   "outputs": [
    {
     "name": "stdout",
     "output_type": "stream",
     "text": [
      "illegal character:\n",
      "\n",
      "The chance of b is:0.40654205607476634% and the chance of 2 is:0.5934579439252337%\n"
     ]
    }
   ],
   "source": [
    "function read_coins(fname)\n",
    "    all = read(fname, String)\n",
    "    \n",
    "    n = Dict()\n",
    "    n['b'] = 0\n",
    "    n['2'] = 0\n",
    "    \n",
    "    for i in 1:length(all)\n",
    "        c = all[i]\n",
    "        if c ∈ keys(n)\n",
    "            n[c] = n[c] + 1\n",
    "        else\n",
    "            println(\"illegal character:\", c)\n",
    "        end\n",
    "    end\n",
    "    return(n)\n",
    "end\n",
    "n1 = read_coins(\"183.txt\") \n",
    "p1 = n1['b'] / (n1['b'] + n1['2'])\n",
    "println(\"The chance of b is:\", p1, \"%\", \" and the chance of 2 is:\", (1 - p1), \"%\")"
   ]
  },
  {
   "cell_type": "markdown",
   "metadata": {},
   "source": [
    "## 294.txt"
   ]
  },
  {
   "cell_type": "code",
   "execution_count": 11,
   "metadata": {},
   "outputs": [
    {
     "name": "stdout",
     "output_type": "stream",
     "text": [
      "illegal character:\n",
      "\n",
      "The chance of b is:0.5598086124401914% and the chance of 2 is:0.4401913875598086%\n"
     ]
    }
   ],
   "source": [
    "n1 = read_coins(\"294.txt\") \n",
    "p1 = n1['b'] / (n1['b'] + n1['2'])\n",
    "println(\"The chance of b is:\", p1, \"%\", \" and the chance of 2 is:\", (1 - p1), \"%\")"
   ]
  },
  {
   "cell_type": "markdown",
   "metadata": {},
   "source": [
    "## 384.txt"
   ]
  },
  {
   "cell_type": "code",
   "execution_count": 12,
   "metadata": {},
   "outputs": [
    {
     "name": "stdout",
     "output_type": "stream",
     "text": [
      "illegal character:\n",
      "\n",
      "The chance of b is:0.6296296296296297% and the chance of 2 is:0.37037037037037035%\n"
     ]
    }
   ],
   "source": [
    "n1 = read_coins(\"384.txt\") \n",
    "p1 = n1['b'] / (n1['b'] + n1['2'])\n",
    "println(\"The chance of b is:\", p1, \"%\", \" and the chance of 2 is:\", (1 - p1), \"%\")"
   ]
  },
  {
   "cell_type": "markdown",
   "metadata": {},
   "source": [
    "## 829.txt"
   ]
  },
  {
   "cell_type": "code",
   "execution_count": 13,
   "metadata": {},
   "outputs": [
    {
     "name": "stdout",
     "output_type": "stream",
     "text": [
      "illegal character:\n",
      "\n",
      "The chance of b is:0.5652173913043478% and the chance of 2 is:0.4347826086956522%\n"
     ]
    }
   ],
   "source": [
    "n1 = read_coins(\"829.txt\") \n",
    "p1 = n1['b'] / (n1['b'] + n1['2'])\n",
    "println(\"The chance of b is:\", p1, \"%\", \" and the chance of 2 is:\", (1 - p1), \"%\")"
   ]
  },
  {
   "cell_type": "markdown",
   "metadata": {},
   "source": [
    "## 916.txt"
   ]
  },
  {
   "cell_type": "code",
   "execution_count": 14,
   "metadata": {},
   "outputs": [
    {
     "name": "stdout",
     "output_type": "stream",
     "text": [
      "illegal character:\n",
      "\n",
      "The chance of b is:0.7260869565217392% and the chance of 2 is:0.27391304347826084%\n"
     ]
    }
   ],
   "source": [
    "n1 = read_coins(\"916.txt\") \n",
    "p1 = n1['b'] / (n1['b'] + n1['2'])\n",
    "println(\"The chance of b is:\", p1, \"%\", \" and the chance of 2 is:\", (1 - p1), \"%\")"
   ]
  },
  {
   "cell_type": "code",
   "execution_count": null,
   "metadata": {},
   "outputs": [],
   "source": []
  }
 ],
 "metadata": {
  "kernelspec": {
   "display_name": "Julia 1.4.1",
   "language": "julia",
   "name": "julia-1.4"
  },
  "language_info": {
   "file_extension": ".jl",
   "mimetype": "application/julia",
   "name": "julia",
   "version": "1.4.1"
  }
 },
 "nbformat": 4,
 "nbformat_minor": 4
}
