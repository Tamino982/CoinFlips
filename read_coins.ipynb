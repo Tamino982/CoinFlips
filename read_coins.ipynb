{
 "cells": [
  {
   "cell_type": "markdown",
   "metadata": {},
   "source": [
    "## Chances of head and tail: analyzing about 200 coin flips, some are manipulated, while some are regular ones \n",
    "\n",
    "### •head is coded b and tail 2"
   ]
  },
  {
   "cell_type": "markdown",
   "metadata": {},
   "source": [
    "##### function: read_coins, which outputs a the distribution of b and 2  "
   ]
  },
  {
   "cell_type": "code",
   "execution_count": 26,
   "metadata": {},
   "outputs": [
    {
     "data": {
      "text/plain": [
       "read_coins (generic function with 1 method)"
      ]
     },
     "execution_count": 26,
     "metadata": {},
     "output_type": "execute_result"
    }
   ],
   "source": [
    "function read_coins(fname)\n",
    "    all = read(fname, String)\n",
    "    \n",
    "    n = Dict()\n",
    "    n['b'] = 0\n",
    "    n['2'] = 0\n",
    "    \n",
    "    for i in 1:length(all)\n",
    "        c = all[i]\n",
    "        if c ∈ keys(n)\n",
    "            n[c] = n[c] + 1\n",
    "        else\n",
    "            println(\"illegal character:\", c)\n",
    "        end\n",
    "    end\n",
    "    return(n)\n",
    "end"
   ]
  },
  {
   "cell_type": "markdown",
   "metadata": {},
   "source": [
    "## 183.txt"
   ]
  },
  {
   "cell_type": "code",
   "execution_count": 25,
   "metadata": {},
   "outputs": [
    {
     "name": "stdout",
     "output_type": "stream",
     "text": [
      "illegal character:\n",
      "\n",
      "The chance of b is: 40.654% and the chance of 2 is: 59.346%\n"
     ]
    }
   ],
   "source": [
    "n1 = read_coins(\"183.txt\") \n",
    "p1 = (n1['b'] / (n1['b'] + n1['2']))*100\n",
    "println(\"The chance of b is: \", round(p1, digits=3), \"%\", \" and the chance of 2 is: \", round(100 - p1, digits=3), \"%\")"
   ]
  },
  {
   "cell_type": "markdown",
   "metadata": {},
   "source": [
    "## 294.txt"
   ]
  },
  {
   "cell_type": "code",
   "execution_count": 21,
   "metadata": {},
   "outputs": [
    {
     "name": "stdout",
     "output_type": "stream",
     "text": [
      "illegal character:\n",
      "\n",
      "The chance of b is: 55.981% and the chance of 2 is: 44.019%\n"
     ]
    }
   ],
   "source": [
    "n1 = read_coins(\"294.txt\") \n",
    "p1 = (n1['b'] / (n1['b'] + n1['2']))*100\n",
    "println(\"The chance of b is: \", round(p1, digits=3), \"%\", \" and the chance of 2 is: \", round(100 - p1, digits=3), \"%\")"
   ]
  },
  {
   "cell_type": "markdown",
   "metadata": {},
   "source": [
    "## 384.txt"
   ]
  },
  {
   "cell_type": "code",
   "execution_count": 22,
   "metadata": {},
   "outputs": [
    {
     "name": "stdout",
     "output_type": "stream",
     "text": [
      "illegal character:\n",
      "\n",
      "The chance of b is: 62.963% and the chance of 2 is: 37.037%\n"
     ]
    }
   ],
   "source": [
    "n1 = read_coins(\"384.txt\") \n",
    "p1 = (n1['b'] / (n1['b'] + n1['2']))*100\n",
    "println(\"The chance of b is: \", round(p1, digits=3), \"%\", \" and the chance of 2 is: \", round(100 - p1, digits=3), \"%\")"
   ]
  },
  {
   "cell_type": "markdown",
   "metadata": {},
   "source": [
    "## 829.txt"
   ]
  },
  {
   "cell_type": "code",
   "execution_count": 23,
   "metadata": {},
   "outputs": [
    {
     "name": "stdout",
     "output_type": "stream",
     "text": [
      "illegal character:\n",
      "\n",
      "The chance of b is: 56.522% and the chance of 2 is: 43.478%\n"
     ]
    }
   ],
   "source": [
    "n1 = read_coins(\"829.txt\") \n",
    "p1 = (n1['b'] / (n1['b'] + n1['2']))*100\n",
    "println(\"The chance of b is: \", round(p1, digits=3), \"%\", \" and the chance of 2 is: \", round(100 - p1, digits=3), \"%\")"
   ]
  },
  {
   "cell_type": "markdown",
   "metadata": {},
   "source": [
    "## 916.txt"
   ]
  },
  {
   "cell_type": "code",
   "execution_count": 24,
   "metadata": {},
   "outputs": [
    {
     "name": "stdout",
     "output_type": "stream",
     "text": [
      "illegal character:\n",
      "\n",
      "The chance of b is: 72.609% and the chance of 2 is: 27.391%\n"
     ]
    }
   ],
   "source": [
    "n1 = read_coins(\"916.txt\") \n",
    "p1 = (n1['b'] / (n1['b'] + n1['2']))*100\n",
    "println(\"The chance of b is: \", round(p1, digits=3), \"%\", \" and the chance of 2 is: \", round(100 - p1, digits=3), \"%\")"
   ]
  },
  {
   "cell_type": "code",
   "execution_count": null,
   "metadata": {},
   "outputs": [],
   "source": []
  }
 ],
 "metadata": {
  "kernelspec": {
   "display_name": "Julia 1.4.1",
   "language": "julia",
   "name": "julia-1.4"
  },
  "language_info": {
   "file_extension": ".jl",
   "mimetype": "application/julia",
   "name": "julia",
   "version": "1.4.1"
  }
 },
 "nbformat": 4,
 "nbformat_minor": 4
}
